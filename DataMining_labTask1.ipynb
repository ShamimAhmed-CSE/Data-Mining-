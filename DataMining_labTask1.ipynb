{
  "nbformat": 4,
  "nbformat_minor": 0,
  "metadata": {
    "colab": {
      "provenance": []
    },
    "kernelspec": {
      "name": "python3",
      "display_name": "Python 3"
    },
    "language_info": {
      "name": "python"
    }
  },
  "cells": [
    {
      "cell_type": "markdown",
      "source": [
        "**3.3.5 Lab Task **\n",
        "1. Write a Python program which accepts the user’s first and last name and print them in a single line as\n",
        "full name."
      ],
      "metadata": {
        "id": "41fApwzWHPHU"
      }
    },
    {
      "cell_type": "code",
      "source": [
        "firstName=input(\"Enter the first name : \")\n",
        "lastName=input(\"Enter the last name : \")\n",
        "fullName = firstName+lastName\n",
        "print(fullName)"
      ],
      "metadata": {
        "colab": {
          "base_uri": "https://localhost:8080/"
        },
        "id": "3ZM6k_9WHpxt",
        "outputId": "3fce05a7-f578-44b6-add9-26c920acba09"
      },
      "execution_count": 2,
      "outputs": [
        {
          "output_type": "stream",
          "name": "stdout",
          "text": [
            "Enter the first name : Shamim \n",
            "Enter the last name : Ahmed\n",
            "Shamim Ahmed\n"
          ]
        }
      ]
    },
    {
      "cell_type": "markdown",
      "source": [
        "2. Write a Python program that accepts an integer (n) and computes the value of n + nn + nnn."
      ],
      "metadata": {
        "id": "f6zPuaRUIchJ"
      }
    },
    {
      "cell_type": "code",
      "source": [
        "n=int(input(\"Enter a num : \"))\n",
        "value= n+(n*n)+(n*n*n)\n",
        "print(value)"
      ],
      "metadata": {
        "colab": {
          "base_uri": "https://localhost:8080/"
        },
        "id": "Y5ygQ3JEIiYF",
        "outputId": "bdd49f3a-b30a-40a0-d740-a33cdceabfca"
      },
      "execution_count": 3,
      "outputs": [
        {
          "output_type": "stream",
          "name": "stdout",
          "text": [
            "Enter a num : 5\n",
            "155\n"
          ]
        }
      ]
    },
    {
      "cell_type": "markdown",
      "source": [
        "3. Write a Python program which accepts the radius of a circle from the user and compute the area."
      ],
      "metadata": {
        "id": "IugplCzRJFSD"
      }
    },
    {
      "cell_type": "code",
      "source": [
        "radius=float(input(\"Enter the radius : \"))\n",
        "area=3.1416*radius*radius\n",
        "print(\"The are is \",area)"
      ],
      "metadata": {
        "colab": {
          "base_uri": "https://localhost:8080/"
        },
        "id": "syWf4TcwJLF_",
        "outputId": "d84e16d2-1e6c-42cb-ad7f-8557be92945f"
      },
      "execution_count": 4,
      "outputs": [
        {
          "output_type": "stream",
          "name": "stdout",
          "text": [
            "Enter the radius : 6\n",
            "The are is  113.0976\n"
          ]
        }
      ]
    },
    {
      "cell_type": "markdown",
      "source": [
        "4. Write a Python program to find whether a given number is odd(accept from the user)"
      ],
      "metadata": {
        "id": "ymu1ZuzfJwkh"
      }
    },
    {
      "cell_type": "code",
      "source": [
        "num=int(input(\"Enter the number: \"))\n",
        "if(num%2==0):\n",
        "  print(num,\" is even\")\n",
        "else:\n",
        "  print(num,\" is odd\")"
      ],
      "metadata": {
        "colab": {
          "base_uri": "https://localhost:8080/"
        },
        "id": "5nxZXysYJ3nF",
        "outputId": "a706c66e-e92c-43d9-ebd7-0ad04d2e1836"
      },
      "execution_count": 7,
      "outputs": [
        {
          "output_type": "stream",
          "name": "stdout",
          "text": [
            "Enter the number: 3\n",
            "3  is odd\n"
          ]
        }
      ]
    },
    {
      "cell_type": "markdown",
      "source": [
        "**3.4.25 Lab Task**\n",
        "1. Write a Python program which accepts a sequence of comma-separated numbers from user and generate\n",
        "a list with those numbers."
      ],
      "metadata": {
        "id": "nMRNAVWgKjPM"
      }
    },
    {
      "cell_type": "code",
      "source": [
        "sequence=input(\"Enter number squance with comma : \")\n",
        "li=sequence.split(\",\")\n",
        "print(li)"
      ],
      "metadata": {
        "colab": {
          "base_uri": "https://localhost:8080/"
        },
        "id": "yjrKf1_aK-X1",
        "outputId": "0bcdcf31-577e-4e8b-8873-defb2a673fff"
      },
      "execution_count": 8,
      "outputs": [
        {
          "output_type": "stream",
          "name": "stdout",
          "text": [
            "Enter number squance with comma : 1,3,5,4,8\n",
            "['1', '3', '5', '4', '8']\n"
          ]
        }
      ]
    },
    {
      "cell_type": "markdown",
      "source": [
        "2. Write a Python program to display the first and last colors from the following list. Go to the editor\n",
        "colorList == [\"Red\",\"Green\",\"White\" ,\"Black\"]"
      ],
      "metadata": {
        "id": "qIsTeDiVLicS"
      }
    },
    {
      "cell_type": "code",
      "source": [
        "colorList = [\"Red\",\"Green\",\"White\" ,\"Black\"]\n",
        "n=len(colorList)\n",
        "print(colorList[0],colorList[n-1])"
      ],
      "metadata": {
        "colab": {
          "base_uri": "https://localhost:8080/"
        },
        "id": "7mwhg9poLcy3",
        "outputId": "c984cd5f-324a-44ad-ef6e-a08f92f2939e"
      },
      "execution_count": 10,
      "outputs": [
        {
          "output_type": "stream",
          "name": "stdout",
          "text": [
            "Red Black\n"
          ]
        }
      ]
    },
    {
      "cell_type": "markdown",
      "source": [
        "3.5.7 Lab **Task**\n",
        "1. Write a Python program to find the largest among three numbers."
      ],
      "metadata": {
        "id": "uffCoBHZMfGu"
      }
    },
    {
      "cell_type": "code",
      "source": [
        "num1=int(input(\"Enter the fisrt number \"))\n",
        "num2=int(input(\"Enter the second number \"))\n",
        "num3=int(input(\"Enter the third number \"))\n",
        "\n",
        "if (num1>num2):\n",
        "  if(num1>num3):\n",
        "    print(num1 ,\" largest number \")\n",
        "  else:\n",
        "    print(num3 ,\" largest number \")\n",
        "else:\n",
        "  if(num2>num3):\n",
        "    print(num2 ,\" largest number \")\n",
        "  else:\n",
        "    print(num3 ,\" largest number \")"
      ],
      "metadata": {
        "colab": {
          "base_uri": "https://localhost:8080/"
        },
        "id": "-XNi_auAMYXc",
        "outputId": "7380c926-4fae-46a1-ef55-fb68dc9764cd"
      },
      "execution_count": 19,
      "outputs": [
        {
          "output_type": "stream",
          "name": "stdout",
          "text": [
            "Enter the fisrt number 5\n",
            "Enter the second number 3\n",
            "Enter the third number 4\n",
            "5  largest number \n"
          ]
        }
      ]
    },
    {
      "cell_type": "markdown",
      "source": [
        "2. Write a Python program to display student grades."
      ],
      "metadata": {
        "id": "War4zJ9AOWjD"
      }
    },
    {
      "cell_type": "code",
      "source": [
        "score = float(input(\"Enter the student's score: \"))\n",
        "if score >= 80:\n",
        "  print(\"The student's grade is A+ \")\n",
        "elif score >= 70:\n",
        "  print(\"The student's grade is A- \")\n",
        "elif score >= 60:\n",
        "  print(\"The student's grade is B \")\n",
        "elif score >= 50:\n",
        "  print(\"The student's grade is C \")\n",
        "elif score >= 40:\n",
        "  print(\"The student's grade is D \")\n",
        "else:\n",
        "  print(\"The student's grade is F \")\n"
      ],
      "metadata": {
        "colab": {
          "base_uri": "https://localhost:8080/"
        },
        "id": "xTopL3J6OVD5",
        "outputId": "bf9b7eb2-9ca2-4981-9e20-6a36ebb7151e"
      },
      "execution_count": 21,
      "outputs": [
        {
          "output_type": "stream",
          "name": "stdout",
          "text": [
            "Enter the student's score: 82\n",
            "The student's grade is A+ \n"
          ]
        }
      ]
    },
    {
      "cell_type": "markdown",
      "source": [
        "3. Write a Python program to calculate the sum of three given numbers, if the values are equal then return\n",
        "three times of their sum. is even or odd, print out an appropriate message to the user."
      ],
      "metadata": {
        "id": "tIBYafPeQiZs"
      }
    },
    {
      "cell_type": "code",
      "source": [
        "num1=int(input(\"Enter the fisrt number \"))\n",
        "num2=int(input(\"Enter the second number \"))\n",
        "num3=int(input(\"Enter the third number \"))\n",
        "\n",
        "sum =num1+num2+num3\n",
        "\n",
        "print(\"The sum of three num is \",sum)\n",
        "\n",
        "if(num1==num2==num3):\n",
        "  print(\"The three times of their sum \", 3*sum)\n",
        "\n",
        "if (sum%2==0):\n",
        "  print(\" the sum is even \")\n",
        "else:\n",
        "  print(\" the sum is odd \")\n",
        "\n",
        "\n"
      ],
      "metadata": {
        "colab": {
          "base_uri": "https://localhost:8080/"
        },
        "id": "RltgjVmpQfy2",
        "outputId": "aa89d2fc-f926-42ac-ebc9-82b4085e7ca1"
      },
      "execution_count": 22,
      "outputs": [
        {
          "output_type": "stream",
          "name": "stdout",
          "text": [
            "Enter the fisrt number 5\n",
            "Enter the second number 5\n",
            "Enter the third number 5\n",
            "The sum of three num is  15\n",
            "The three times of their sum  45\n",
            " the sum is odd \n"
          ]
        }
      ]
    },
    {
      "cell_type": "markdown",
      "source": [
        "**Lab Exercise**\n",
        "1. Write a Python program to find the sum of odd and even numbers from a set of numbers."
      ],
      "metadata": {
        "id": "xQwZArgDSB7D"
      }
    },
    {
      "cell_type": "code",
      "source": [
        "n = int(input(\"Enter the size of the array: \"))\n",
        "ar = []\n",
        "\n",
        "for i in range(n):\n",
        "    element = int(input(f\"Enter element {i + 1}: \"))\n",
        "    ar.append(element)  # Use append to add elements to the list\n",
        "\n",
        "sum_even = 0\n",
        "sum_odd = 0\n",
        "\n",
        "for i in range(n):\n",
        "    if ar[i] % 2 == 0:\n",
        "        sum_even += ar[i]\n",
        "    else:\n",
        "        sum_odd += ar[i]\n",
        "\n",
        "print(f\"Sum of even numbers: {sum_even}\")\n",
        "print(f\"Sum of odd numbers: {sum_odd}\")"
      ],
      "metadata": {
        "colab": {
          "base_uri": "https://localhost:8080/"
        },
        "id": "vVrajl5SSSqN",
        "outputId": "9794c30a-4c1e-4a50-a2bd-9abea33a34f3"
      },
      "execution_count": 30,
      "outputs": [
        {
          "output_type": "stream",
          "name": "stdout",
          "text": [
            "Enter the size of the array: 3\n",
            "Enter element 1: 2\n",
            "Enter element 2: 3\n",
            "Enter element 3: 4\n",
            "Sum of even numbers: 6\n",
            "Sum of odd numbers: 3\n"
          ]
        }
      ]
    },
    {
      "cell_type": "markdown",
      "source": [
        "2. Write a Python program to Check Triangle is Valid or Not"
      ],
      "metadata": {
        "id": "xH2Aqnm2UyhD"
      }
    },
    {
      "cell_type": "code",
      "source": [
        "side1 = int(input(\"Enter the length of the first side: \"))\n",
        "side2 = int(input(\"Enter the length of the second side: \"))\n",
        "side3 = int(input(\"Enter the length of the third side: \"))\n",
        "\n",
        "\n",
        "if(side1 + side2 > side3 and side1 + side3 > side2 and side2 + side3 > side1):\n",
        "    print(\"The triangle is valid.\")\n",
        "else:\n",
        "    print(\"The triangle is not valid.\")"
      ],
      "metadata": {
        "colab": {
          "base_uri": "https://localhost:8080/"
        },
        "id": "c5jPK6IPUxqi",
        "outputId": "d21e2b75-7f96-462b-f7a1-3e7ed3b9d41d"
      },
      "execution_count": 32,
      "outputs": [
        {
          "output_type": "stream",
          "name": "stdout",
          "text": [
            "Enter the length of the first side: 5\n",
            "Enter the length of the second side: 4\n",
            "Enter the length of the third side: 7\n",
            "The triangle is valid.\n"
          ]
        }
      ]
    }
  ]
}